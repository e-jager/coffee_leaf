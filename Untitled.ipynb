{
 "cells": [
  {
   "cell_type": "markdown",
   "metadata": {},
   "source": [
    "#### Imports"
   ]
  },
  {
   "cell_type": "code",
   "execution_count": 1,
   "metadata": {},
   "outputs": [],
   "source": [
    "import pandas as pd\n",
    "import numpy as np\n",
    "import os\n",
    "import shutil"
   ]
  },
  {
   "cell_type": "code",
   "execution_count": 53,
   "metadata": {},
   "outputs": [],
   "source": [
    "from keras.preprocessing.image import ImageDataGenerator\n",
    "import tensorflow as tf\n",
    "from matplotlib import pyplot as plt\n",
    "from tensorflow.keras import datasets, layers, models\n",
    "from tensorflow.keras.callbacks import EarlyStopping\n",
    "from tensorflow.keras.metrics import BinaryAccuracy\n",
    "from tensorflow.keras.callbacks import ModelCheckpoint\n",
    "from tensorflow.keras.models import Sequential\n",
    "from tensorflow.keras.layers import Dense\n",
    "from keras.models import load_model\n",
    "import seaborn as sns\n",
    "from sklearn.model_selection import GridSearchCV\n",
    "from tensorflow import keras\n",
    "from tensorflow.keras import layers"
   ]
  },
  {
   "cell_type": "markdown",
   "metadata": {},
   "source": [
    "#### Reading in data"
   ]
  },
  {
   "cell_type": "code",
   "execution_count": 4,
   "metadata": {},
   "outputs": [],
   "source": [
    "# Reading in the csv that has the labels for the test and train images\n",
    "test_labels = pd.read_csv('data/test_classes.csv')\n",
    "train_labels = pd.read_csv('data/train_classes.csv')"
   ]
  },
  {
   "cell_type": "code",
   "execution_count": 5,
   "metadata": {},
   "outputs": [
    {
     "data": {
      "text/html": [
       "<div>\n",
       "<style scoped>\n",
       "    .dataframe tbody tr th:only-of-type {\n",
       "        vertical-align: middle;\n",
       "    }\n",
       "\n",
       "    .dataframe tbody tr th {\n",
       "        vertical-align: top;\n",
       "    }\n",
       "\n",
       "    .dataframe thead th {\n",
       "        text-align: right;\n",
       "    }\n",
       "</style>\n",
       "<table border=\"1\" class=\"dataframe\">\n",
       "  <thead>\n",
       "    <tr style=\"text-align: right;\">\n",
       "      <th></th>\n",
       "      <th>id</th>\n",
       "      <th>miner</th>\n",
       "      <th>rust</th>\n",
       "      <th>phoma</th>\n",
       "      <th>sum</th>\n",
       "    </tr>\n",
       "  </thead>\n",
       "  <tbody>\n",
       "    <tr>\n",
       "      <th>0</th>\n",
       "      <td>64</td>\n",
       "      <td>1</td>\n",
       "      <td>0</td>\n",
       "      <td>0</td>\n",
       "      <td>1</td>\n",
       "    </tr>\n",
       "    <tr>\n",
       "      <th>1</th>\n",
       "      <td>65</td>\n",
       "      <td>1</td>\n",
       "      <td>0</td>\n",
       "      <td>0</td>\n",
       "      <td>1</td>\n",
       "    </tr>\n",
       "    <tr>\n",
       "      <th>2</th>\n",
       "      <td>66</td>\n",
       "      <td>1</td>\n",
       "      <td>0</td>\n",
       "      <td>0</td>\n",
       "      <td>1</td>\n",
       "    </tr>\n",
       "    <tr>\n",
       "      <th>3</th>\n",
       "      <td>67</td>\n",
       "      <td>1</td>\n",
       "      <td>0</td>\n",
       "      <td>0</td>\n",
       "      <td>1</td>\n",
       "    </tr>\n",
       "    <tr>\n",
       "      <th>4</th>\n",
       "      <td>68</td>\n",
       "      <td>1</td>\n",
       "      <td>0</td>\n",
       "      <td>0</td>\n",
       "      <td>1</td>\n",
       "    </tr>\n",
       "  </tbody>\n",
       "</table>\n",
       "</div>"
      ],
      "text/plain": [
       "   id  miner  rust  phoma  sum\n",
       "0  64      1     0      0    1\n",
       "1  65      1     0      0    1\n",
       "2  66      1     0      0    1\n",
       "3  67      1     0      0    1\n",
       "4  68      1     0      0    1"
      ]
     },
     "execution_count": 5,
     "metadata": {},
     "output_type": "execute_result"
    }
   ],
   "source": [
    "test_labels.head()"
   ]
  },
  {
   "cell_type": "markdown",
   "metadata": {},
   "source": [
    "#### Data Cleaning\n",
    "Created a new column in Excel for sum which is a sum of the disease columns that have 1s and 0s, and here I am removing the rows with 2 as the sum, because the images can't have more than one disease, so they must be an error in the data."
   ]
  },
  {
   "cell_type": "code",
   "execution_count": 51,
   "metadata": {},
   "outputs": [],
   "source": [
    " test_labels_clean = test_labels[test_labels['sum'] != 2]\n",
    "train_labels_clean = train_labels[train_labels['sum'] != 2]"
   ]
  },
  {
   "cell_type": "code",
   "execution_count": 47,
   "metadata": {},
   "outputs": [],
   "source": [
    "test_labels_clean.to_csv('test_labels_clean.csv', index=False)\n",
    "train_labels_clean.to_csv('train_labels_clean.csv', index=False)"
   ]
  },
  {
   "cell_type": "markdown",
   "metadata": {},
   "source": [
    "## Image sorting/organizing"
   ]
  },
  {
   "cell_type": "markdown",
   "metadata": {},
   "source": [
    "Here, I am sorting the image files into their own folders by test/train and disease status. I am also going to sort them by disease/heathy, test/train to make it simpler for my first model."
   ]
  },
  {
   "cell_type": "markdown",
   "metadata": {},
   "source": [
    "### Sorting by only healthy vs disease and test/train"
   ]
  },
  {
   "cell_type": "code",
   "execution_count": 59,
   "metadata": {},
   "outputs": [],
   "source": [
    "# Source directory containing the image files\n",
    "source_directory = \"data/coffee-leaf-diseases/test/images\"\n",
    "\n",
    "# Destination directory for the \"test_miner\" folder\n",
    "destination_directory = \"data/test_alldisease\"\n",
    "\n",
    "# List of file numbers to move\n",
    "file_numbers_to_move = [64, 65, 66, 67, 68, 69, 70, 71, 72, 73,  74, 75, 76, 77, 78, 79, 80, 81, 82, 83,  84, 85, 86, 87, 88, 89, 90, 91, 92, 93,  94, 95, 96, 97, 98, 99, 1100, 1101, 1102,  1103, 1108, 1109, 1110, 1111, 1112, 1113,  1114, 1115, 1128, 1129, 1130, 1131, 1132,  1133, 1134, 1135, 1136, 1137, 1138, 1139,  1148, 1149, 1150, 1151, 1152, 1153, 1154,  1155, 1156, 1157, 1158, 1159, 1232, 1233,  1234, 1235, 1244, 1245, 1246, 1247, 1248,  1249, 1250, 1251, 1256, 1257, 1258, 1259,  1260, 1261, 1262, 1263, 1264, 1265, 1266,  1267, 1268, 1269, 1270, 1271, 1272, 1273,  1274, 1275, 1276, 1277, 1278, 1279, 1284,  1285, 1286, 1287, 1292, 1293, 1294, 1295, 1120, 1121, 1122, 1123, 1252, 1253, 1254, 1255, 1600, 1601, 1602, 1603, 1604, 1605, 1606, 1607, 1608, 1609, 1610, 1611, 1612, 1613, 1614, 1615, 1616, 1617, 1618, 1619, 1620, 1621, 1622, 1623, 1632, 1633, 1634, 1635, 1636, 1637, 1638, 1639, 1640, 1641, 1642, 1643, 1644, 1645, 1646, 1647, 1648, 1649, 1650, 1651, 1652, 1653, 1654, 1655, 1660, 1661, 1662, 1663, 500, 501, 502, 503, 504, 505, 506, 507, 508, 509,510, 511, 512, 513, 514, 515, 516, 517, 518, 519,520, 521, 522, 523, 524, 525, 526, 527, 528, 529,530, 531, 532, 533, 534, 535, 536, 537, 538, 539,540, 541, 542, 543, 544, 545, 546, 547, 548, 549,550, 551, 552, 553, 554, 555, 556, 557, 558, 559,560, 561, 562, 563, 564, 565, 566, 567, 568, 569,570, 571, 572, 573, 574, 575, 576, 577, 578, 579,580, 581, 582, 583, 588, 589, 590, 591, 592, 593,594, 595, 596, 597, 598, 599]\n",
    "\n",
    "# Ensure the destination directory exists\n",
    "os.makedirs(destination_directory, exist_ok=True)\n",
    "\n",
    "# Move files with specified numbers to the \"test_miner\" folder\n",
    "for file_number in file_numbers_to_move:\n",
    "    source_file = os.path.join(source_directory, f\"{file_number}.jpg\")  # Adjust the file extension if needed\n",
    "    if os.path.exists(source_file):\n",
    "        destination_file = os.path.join(destination_directory, os.path.basename(source_file))\n",
    "        shutil.move(source_file, destination_file)"
   ]
  },
  {
   "cell_type": "code",
   "execution_count": 60,
   "metadata": {},
   "outputs": [],
   "source": [
    "# Source directory containing the image files\n",
    "source_directory = \"data/coffee-leaf-diseases/train/images\"\n",
    "\n",
    "# Destination directory for the \"test_miner\" folder\n",
    "destination_directory = \"data/train_alldisease\"\n",
    "\n",
    "# List of file numbers to move\n",
    "file_numbers_to_move = [20, 21, 22, 23, 24, 25, 26, 27, 28, 29, 30, 31, 32, 33, 34, 35, 36, 37, 38, 39, 40, 41, 42, 43, 52, 53, 54, 55, 56, 57, 58, 59, 60, 61, 62, 63, 100, 101, 102, 103, 104, 105, 106, 107, 108, 109, 110, 111, 112, 113, 114, 115, 116, 117, 118, 119, 120, 121, 122, 123, 124, 125, 126, 127, 216, 217, 218, 219, 220, 221, 222, 223, 224, 225, 226, 227, 228, 229, 230, 231, 232, 233, 234, 235, 236, 237, 238, 239, 684, 685, 686, 687, 804, 805, 806, 807, 816, 817, 818, 819, 828, 829, 830, 831, 836, 837, 838, 839, 852, 853, 854, 855, 856, 857, 858, 859, 864, 865, 866, 867, 872, 873, 874, 875, 888, 889, 890, 891, 892, 893, 894, 895, 908, 909, 910, 911, 912, 913, 914, 915, 928, 929, 930, 931, 948, 949, 950, 951, 952, 953, 954, 955, 956, 957, 958, 959, 972, 973, 974, 975, 976, 977, 978, 979, 980, 981, 982, 983, 984, 985, 986, 987, 992, 993, 994, 995, 1000, 1001, 1002, 1003, 1008, 1009, 1010, 1011, 1024, 1025, 1026, 1027, 1032, 1033, 1034, 1035, 1044, 1045, 1046, 1047, 1052, 1053, 1054, 1055, 1068, 1069, 1070, 1071, 1072, 1073, 1074, 1075, 1080, 1081, 1082, 1083, 1084, 1085, 1086, 1087, 1092, 1093, 1094, 1095, 1300, 1301, 1302, 1303, 1308, 1309, 1310, 1311, 1312, 1313, 1314, 1315, 1320, 1321, 1322, 1323, 1328, 1329, 1330, 1331, 1336, 1337, 1338, 1339, 1340, 1341, 1342, 1343, 1344, 1345, 1346, 1347, 1352, 1353, 1354, 1355, 1356, 1357, 1358, 1359, 1376, 1377, 1378, 1379, 1480, 1481, 1482, 1483, 1496, 1497, 1498, 1499, 1500, 1501, 1502, 1503, 1540, 1541, 1542, 1543, 1560, 1561, 1562, 1563, 128, 129, 130, 131, 132, 133, 134, 135, 136, 137, 138, 139, 140, 141, 142, 143, 144, 145, 146, 147, 148, 149, 150, 151, 152, 153, 154, 155, 156, 157, 158, 159, 160, 161, 162, 163, 164, 165, 166, 167, 168, 169, 170, 171, 172, 173, 174, 175, 176, 177, 178, 179, 180, 181, 182, 183, 184, 185, 186, 187, 648, 649, 650, 651, 712, 713, 714, 715, 716, 717, 718, 719, 732, 733, 734, 735, 768, 769, 770, 771, 840, 841, 842, 843, 884, 885, 886, 887, 896, 897, 898, 899, 900, 901, 902, 903, 944, 945, 946, 947, 960, 961, 962, 963, 968, 969, 970, 971, 1028, 1029, 1030, 1031, 1040, 1041, 1042, 1043, 1088, 1089, 1090, 1091, 1348, 1349, 1350, 1351, 1372, 1373, 1374, 1375, 1432, 1433, 1434, 1435, 1440, 1441, 1442, 1443, 1452, 1453, 1454, 1455, 1456, 1457, 1458, 1459, 1460, 1461, 1462, 1463, 1464, 1465, 1466, 1467, 1468, 1469, 1470, 1471, 1472, 1473, 1474, 1475, 1476, 1477, 1478, 1479, 1484, 1485, 1486, 1487, 1488, 1489, 1490, 1491, 1492, 1493, 1494, 1495, 1504, 1505, 1506, 1507, 1508, 1509, 1510, 1511, 1512, 1513, 1514, 1515, 1516, 1517, 1518, 1519, 1520, 1521, 1522, 1523, 1524, 1525, 1526, 1527, 1528, 1529, 1530, 1531, 1532, 1533, 1534, 1535, 1536, 1537, 1538, 1539, 1544, 1545, 1546, 1547, 1548, 1549, 1550, 1551, 1552, 1553, 1554, 1555, 1556, 1557, 1558, 1559, 1564, 1565, 1566, 1567, 1568, 1569, 1570, 1571, 1572, 1573, 1574, 1575, 1576, 1577, 1578, 1579, 1580, 1581, 1582, 1583, 1588, 1589, 1590, 1591, 1592, 1593, 1594, 1595, 1596, 1597, 1598, 1599, 16, 17, 18, 19, 240, 241, 242, 243, 244, 245, 246, 247, 248, 249, 250, 251, 252, 253, 254, 255, 256, 257, 258, 259, 260, 261, 262, 263, 264, 265, 266, 267, 268, 269, 270, 271, 272, 273, 274, 275, 276, 277, 278, 279, 280, 281, 282, 283, 284, 285, 286, 287, 288, 289, 290, 291, 292, 293, 294, 295, 296, 297, 298, 299, 300, 301, 302, 303, 304, 305, 306, 307, 308, 309, 310, 311, 312, 313, 314, 315, 316, 317, 318, 319, 320, 321, 322, 323, 324, 325, 326, 327, 328, 329, 330, 331, 332, 333, 334, 335, 336, 337, 338, 339, 340, 341, 342, 343, 344, 345, 346, 347, 348, 349, 350, 351, 352, 353, 354, 355, 356, 357, 358, 359, 360, 361, 362, 363, 364, 365, 366, 367, 368, 369, 370, 371, 372, 373, 374, 375, 376, 377, 378, 379, 380, 381, 382, 383, 384, 385, 386, 387, 388, 389, 390, 391, 392, 393, 394, 395, 396, 397, 398, 399, 400, 401, 402, 403, 404, 405, 406, 407, 408, 409, 410, 411, 412, 413, 414, 415, 416, 417, 418, 419, 420, 421, 422, 423, 424, 425, 426, 427, 428, 429, 430, 431, 432, 433, 434, 435, 436, 437, 438, 439, 440, 441, 442, 443, 444, 445, 446, 447, 448, 449, 450, 451, 452, 453, 454, 455, 456, 457, 458, 459, 460, 461, 462, 463, 464, 465, 466, 467, 468, 469, 470, 471, 472, 473, 474, 475, 476, 477, 478, 479, 480, 481, 482, 483, 484, 485, 486, 487, 488, 489, 490, 491, 492, 493, 494, 495, 496, 497, 498, 499, 600, 601, 602, 603, 604, 605, 606, 607, 608, 609, 610, 611, 612, 613, 614, 615, 616, 617, 618, 619, 620, 621, 622, 623, 624, 625, 626, 627, 628, 629, 630, 631, 632, 633, 634, 635, 636, 637, 638, 639, 640, 641, 642, 643, 644, 645, 646, 647, 652, 653, 654, 655, 656, 657, 658, 659, 660, 661, 662, 663, 664, 665, 666, 667, 668, 669, 670, 671, 672, 673, 674, 675, 676, 677, 678, 679, 680, 681, 682, 683, 708, 709, 710, 711, 728, 729, 730, 731, 736, 737, 738, 739, 756, 757, 758, 759, 772, 773, 774, 775, 780, 781, 782, 783, 784, 785, 786, 787, 796, 797, 798, 799, 800, 801, 802, 803, 808, 809, 810, 811, 820, 821, 822, 823]\n",
    "\n",
    "# Ensure the destination directory exists\n",
    "os.makedirs(destination_directory, exist_ok=True)\n",
    "\n",
    "# Move files with specified numbers to the \"test_miner\" folder\n",
    "for file_number in file_numbers_to_move:\n",
    "    source_file = os.path.join(source_directory, f\"{file_number}.jpg\")  # Adjust the file extension if needed\n",
    "    if os.path.exists(source_file):\n",
    "        destination_file = os.path.join(destination_directory, os.path.basename(source_file))\n",
    "        shutil.move(source_file, destination_file)"
   ]
  },
  {
   "cell_type": "markdown",
   "metadata": {},
   "source": [
    "### Sorting by all three diseases, healthy and test/train"
   ]
  },
  {
   "cell_type": "code",
   "execution_count": 48,
   "metadata": {},
   "outputs": [
    {
     "name": "stdout",
     "output_type": "stream",
     "text": [
      "Files have been moved to the 'test_miner' folder.\n"
     ]
    }
   ],
   "source": [
    "# Source directory containing the image files\n",
    "source_directory = \"data/coffee-leaf-diseases/test/images\"\n",
    "\n",
    "# Destination directory for the \"test_miner\" folder\n",
    "destination_directory = \"data/test_miner\"\n",
    "\n",
    "# List of file numbers to move\n",
    "file_numbers_to_move = [64, 65, 66, 67, 68, 69, 70, 71, 72, 73,  74, 75, 76, 77, 78, 79, 80, 81, 82, 83,  84, 85, 86, 87, 88, 89, 90, 91, 92, 93,  94, 95, 96, 97, 98, 99, 1100, 1101, 1102,  1103, 1108, 1109, 1110, 1111, 1112, 1113,  1114, 1115, 1128, 1129, 1130, 1131, 1132,  1133, 1134, 1135, 1136, 1137, 1138, 1139,  1148, 1149, 1150, 1151, 1152, 1153, 1154,  1155, 1156, 1157, 1158, 1159, 1232, 1233,  1234, 1235, 1244, 1245, 1246, 1247, 1248,  1249, 1250, 1251, 1256, 1257, 1258, 1259,  1260, 1261, 1262, 1263, 1264, 1265, 1266,  1267, 1268, 1269, 1270, 1271, 1272, 1273,  1274, 1275, 1276, 1277, 1278, 1279, 1284,  1285, 1286, 1287, 1292, 1293, 1294, 1295]\n",
    "\n",
    "# Ensure the destination directory exists\n",
    "os.makedirs(destination_directory, exist_ok=True)\n",
    "\n",
    "# Move files with specified numbers to the \"test_miner\" folder\n",
    "for file_number in file_numbers_to_move:\n",
    "    source_file = os.path.join(source_directory, f\"{file_number}.jpg\")  # Adjust the file extension if needed\n",
    "    if os.path.exists(source_file):\n",
    "        destination_file = os.path.join(destination_directory, os.path.basename(source_file))\n",
    "        shutil.move(source_file, destination_file)"
   ]
  },
  {
   "cell_type": "code",
   "execution_count": 49,
   "metadata": {},
   "outputs": [
    {
     "name": "stdout",
     "output_type": "stream",
     "text": [
      "Files with the specified numbers have been moved to the 'test_miner' folder.\n"
     ]
    }
   ],
   "source": [
    "# Source directory containing the image files\n",
    "source_directory = \"data/coffee-leaf-diseases/test/images\"\n",
    "\n",
    "# Destination directory for the \"test_miner\" folder\n",
    "destination_directory = \"data/images_sorted/test_rust\"\n",
    "\n",
    "# List of new file numbers to move\n",
    "file_numbers_to_move = [1120, 1121, 1122, 1123, 1252, 1253, 1254, 1255, 1600, 1601, 1602, 1603, 1604, 1605, 1606, 1607, 1608, 1609, 1610, 1611, 1612, 1613, 1614, 1615, 1616, 1617, 1618, 1619, 1620, 1621, 1622, 1623, 1632, 1633, 1634, 1635, 1636, 1637, 1638, 1639, 1640, 1641, 1642, 1643, 1644, 1645, 1646, 1647, 1648, 1649, 1650, 1651, 1652, 1653, 1654, 1655, 1660, 1661, 1662, 1663]\n",
    "\n",
    "# Ensure the destination directory exists\n",
    "os.makedirs(destination_directory, exist_ok=True)\n",
    "\n",
    "# Move files with specified numbers to the \"test_miner\" folder\n",
    "for file_number in file_numbers_to_move:\n",
    "    source_file = os.path.join(source_directory, f\"{file_number}.jpg\")  # Adjust the file extension if needed\n",
    "    if os.path.exists(source_file):\n",
    "        destination_file = os.path.join(destination_directory, os.path.basename(source_file))\n",
    "        shutil.move(source_file, destination_file)"
   ]
  },
  {
   "cell_type": "code",
   "execution_count": 50,
   "metadata": {},
   "outputs": [
    {
     "name": "stdout",
     "output_type": "stream",
     "text": [
      "Files with the specified numbers have been moved to the 'test_phoma' folder.\n"
     ]
    }
   ],
   "source": [
    "import os\n",
    "import shutil\n",
    "\n",
    "# Source directory containing the image files\n",
    "source_directory = \"data/coffee-leaf-diseases/test/images\"\n",
    "\n",
    "# Destination directory for the \"test_miner\" folder\n",
    "destination_directory = \"data/images_sorted/test_phoma\"\n",
    "\n",
    "# List of new file numbers to move\n",
    "file_numbers_to_move = [500, 501, 502, 503, 504, 505, 506, 507, 508, 509,510, 511, 512, 513, 514, 515, 516, 517, 518, 519,520, 521, 522, 523, 524, 525, 526, 527, 528, 529,530, 531, 532, 533, 534, 535, 536, 537, 538, 539,540, 541, 542, 543, 544, 545, 546, 547, 548, 549,550, 551, 552, 553, 554, 555, 556, 557, 558, 559,560, 561, 562, 563, 564, 565, 566, 567, 568, 569,570, 571, 572, 573, 574, 575, 576, 577, 578, 579,580, 581, 582, 583, 588, 589, 590, 591, 592, 593,594, 595, 596, 597, 598, 599]\n",
    "\n",
    "# Ensure the destination directory exists\n",
    "os.makedirs(destination_directory, exist_ok=True)\n",
    "\n",
    "# Move files with specified numbers to the \"test_miner\" folder\n",
    "for file_number in file_numbers_to_move:\n",
    "    source_file = os.path.join(source_directory, f\"{file_number}.jpg\")  # Adjust the file extension if needed\n",
    "    if os.path.exists(source_file):\n",
    "        destination_file = os.path.join(destination_directory, os.path.basename(source_file))\n",
    "        shutil.move(source_file, destination_file)"
   ]
  },
  {
   "cell_type": "code",
   "execution_count": 52,
   "metadata": {},
   "outputs": [
    {
     "name": "stdout",
     "output_type": "stream",
     "text": [
      "Files with the specified numbers have been moved to the 'test_healthy' folder.\n"
     ]
    }
   ],
   "source": [
    "# Source directory containing the image files\n",
    "source_directory = \"data/coffee-leaf-diseases/test/images\"\n",
    "\n",
    "# Destination directory for the \"test_miner\" folder\n",
    "destination_directory = \"data/images_sorted/test_healthy\"\n",
    "\n",
    "# List of new file numbers to move\n",
    "file_numbers_to_move = [584, 585, 586, 587, 1116, 1117, 1118, 1119, 1124, 1125, 1126, 1127, 1144, 1145, 1146, 1147, 1160, 1161, 1162, 1163, 1164, 1165, 1166, 1167, 1168, 1169, 1170, 1171, 1172, 1173, 1174, 1175, 1176, 1177, 1178, 1179, 1180, 1181, 1182, 1183, 1184, 1185, 1186, 1187, 1188, 1189, 1190, 1191, 1192, 1193, 1194, 1195, 1196, 1197, 1198, 1199, 1200, 1201, 1202, 1203, 1204, 1205, 1206, 1207, 1208, 1209, 1210, 1211, 1212, 1213, 1214, 1215, 1216, 1217, 1218, 1219, 1220, 1221, 1222, 1223, 1224, 1225, 1226, 1227, 1228, 1229, 1230, 1231, 1236, 1237, 1238, 1239, 1240, 1241, 1242, 1243, 1288, 1289, 1290, 1291, 1296, 1297, 1298, 1299, 1624, 1625, 1626, 1627, 1628, 1629, 1630, 1631, 1656, 1657, 1658, 1659]\n",
    "\n",
    "# Ensure the destination directory exists\n",
    "os.makedirs(destination_directory, exist_ok=True)\n",
    "\n",
    "# Move files with specified numbers to the \"test_miner\" folder\n",
    "for file_number in file_numbers_to_move:\n",
    "    source_file = os.path.join(source_directory, f\"{file_number}.jpg\")  # Adjust the file extension if needed\n",
    "    if os.path.exists(source_file):\n",
    "        destination_file = os.path.join(destination_directory, os.path.basename(source_file))\n",
    "        shutil.move(source_file, destination_file)"
   ]
  },
  {
   "cell_type": "code",
   "execution_count": 53,
   "metadata": {},
   "outputs": [],
   "source": [
    "source_directory = \"data/coffee-leaf-diseases/train/images\"\n",
    "\n",
    "# Destination directory for the \"test_miner\" folder\n",
    "destination_directory = \"data/images_sorted/train_miner\"\n",
    "\n",
    "# List of new file numbers to move\n",
    "file_numbers_to_move = [20, 21, 22, 23, 24, 25, 26, 27, 28, 29, 30, 31, 32, 33, 34, 35, 36, 37, 38, 39, 40, 41, 42, 43, 52, 53, 54, 55, 56, 57, 58, 59, 60, 61, 62, 63, 100, 101, 102, 103, 104, 105, 106, 107, 108, 109, 110, 111, 112, 113, 114, 115, 116, 117, 118, 119, 120, 121, 122, 123, 124, 125, 126, 127, 216, 217, 218, 219, 220, 221, 222, 223, 224, 225, 226, 227, 228, 229, 230, 231, 232, 233, 234, 235, 236, 237, 238, 239, 684, 685, 686, 687, 804, 805, 806, 807, 816, 817, 818, 819, 828, 829, 830, 831, 836, 837, 838, 839, 852, 853, 854, 855, 856, 857, 858, 859, 864, 865, 866, 867, 872, 873, 874, 875, 888, 889, 890, 891, 892, 893, 894, 895, 908, 909, 910, 911, 912, 913, 914, 915, 928, 929, 930, 931, 948, 949, 950, 951, 952, 953, 954, 955, 956, 957, 958, 959, 972, 973, 974, 975, 976, 977, 978, 979, 980, 981, 982, 983, 984, 985, 986, 987, 992, 993, 994, 995, 1000, 1001, 1002, 1003, 1008, 1009, 1010, 1011, 1024, 1025, 1026, 1027, 1032, 1033, 1034, 1035, 1044, 1045, 1046, 1047, 1052, 1053, 1054, 1055, 1068, 1069, 1070, 1071, 1072, 1073, 1074, 1075, 1080, 1081, 1082, 1083, 1084, 1085, 1086, 1087, 1092, 1093, 1094, 1095, 1300, 1301, 1302, 1303, 1308, 1309, 1310, 1311, 1312, 1313, 1314, 1315, 1320, 1321, 1322, 1323, 1328, 1329, 1330, 1331, 1336, 1337, 1338, 1339, 1340, 1341, 1342, 1343, 1344, 1345, 1346, 1347, 1352, 1353, 1354, 1355, 1356, 1357, 1358, 1359, 1376, 1377, 1378, 1379, 1480, 1481, 1482, 1483, 1496, 1497, 1498, 1499, 1500, 1501, 1502, 1503, 1540, 1541, 1542, 1543, 1560, 1561, 1562, 1563]\n",
    "\n",
    "os.makedirs(destination_directory, exist_ok=True)\n",
    "\n",
    "for file_number in file_numbers_to_move:\n",
    "    source_file = os.path.join(source_directory, f\"{file_number}.jpg\")  # Adjust the file extension if needed\n",
    "    if os.path.exists(source_file):\n",
    "        destination_file = os.path.join(destination_directory, os.path.basename(source_file))\n",
    "        shutil.move(source_file, destination_file)"
   ]
  },
  {
   "cell_type": "code",
   "execution_count": 54,
   "metadata": {},
   "outputs": [],
   "source": [
    "source_directory = \"data/coffee-leaf-diseases/train/images\"\n",
    "\n",
    "# Destination directory for the \"test_miner\" folder\n",
    "destination_directory = \"data/images_sorted/train_rust\"\n",
    "\n",
    "# List of new file numbers to move\n",
    "file_numbers_to_move = [128, 129, 130, 131, 132, 133, 134, 135, 136, 137, 138, 139, 140, 141, 142, 143, 144, 145, 146, 147, 148, 149, 150, 151, 152, 153, 154, 155, 156, 157, 158, 159, 160, 161, 162, 163, 164, 165, 166, 167, 168, 169, 170, 171, 172, 173, 174, 175, 176, 177, 178, 179, 180, 181, 182, 183, 184, 185, 186, 187, 648, 649, 650, 651, 712, 713, 714, 715, 716, 717, 718, 719, 732, 733, 734, 735, 768, 769, 770, 771, 840, 841, 842, 843, 884, 885, 886, 887, 896, 897, 898, 899, 900, 901, 902, 903, 944, 945, 946, 947, 960, 961, 962, 963, 968, 969, 970, 971, 1028, 1029, 1030, 1031, 1040, 1041, 1042, 1043, 1088, 1089, 1090, 1091, 1348, 1349, 1350, 1351, 1372, 1373, 1374, 1375, 1432, 1433, 1434, 1435, 1440, 1441, 1442, 1443, 1452, 1453, 1454, 1455, 1456, 1457, 1458, 1459, 1460, 1461, 1462, 1463, 1464, 1465, 1466, 1467, 1468, 1469, 1470, 1471, 1472, 1473, 1474, 1475, 1476, 1477, 1478, 1479, 1484, 1485, 1486, 1487, 1488, 1489, 1490, 1491, 1492, 1493, 1494, 1495, 1504, 1505, 1506, 1507, 1508, 1509, 1510, 1511, 1512, 1513, 1514, 1515, 1516, 1517, 1518, 1519, 1520, 1521, 1522, 1523, 1524, 1525, 1526, 1527, 1528, 1529, 1530, 1531, 1532, 1533, 1534, 1535, 1536, 1537, 1538, 1539, 1544, 1545, 1546, 1547, 1548, 1549, 1550, 1551, 1552, 1553, 1554, 1555, 1556, 1557, 1558, 1559, 1564, 1565, 1566, 1567, 1568, 1569, 1570, 1571, 1572, 1573, 1574, 1575, 1576, 1577, 1578, 1579, 1580, 1581, 1582, 1583, 1588, 1589, 1590, 1591, 1592, 1593, 1594, 1595, 1596, 1597, 1598, 1599]\n",
    "\n",
    "os.makedirs(destination_directory, exist_ok=True)\n",
    "\n",
    "for file_number in file_numbers_to_move:\n",
    "    source_file = os.path.join(source_directory, f\"{file_number}.jpg\")  # Adjust the file extension if needed\n",
    "    if os.path.exists(source_file):\n",
    "        destination_file = os.path.join(destination_directory, os.path.basename(source_file))\n",
    "        shutil.move(source_file, destination_file)"
   ]
  },
  {
   "cell_type": "code",
   "execution_count": 55,
   "metadata": {},
   "outputs": [],
   "source": [
    "source_directory = \"data/coffee-leaf-diseases/train/images\"\n",
    "\n",
    "# Destination directory for the \"test_miner\" folder\n",
    "destination_directory = \"data/images_sorted/train_phoma\"\n",
    "\n",
    "# List of new file numbers to move\n",
    "file_numbers_to_move = [16, 17, 18, 19, 240, 241, 242, 243, 244, 245, 246, 247, 248, 249, 250, 251, 252, 253, 254, 255, 256, 257, 258, 259, 260, 261, 262, 263, 264, 265, 266, 267, 268, 269, 270, 271, 272, 273, 274, 275, 276, 277, 278, 279, 280, 281, 282, 283, 284, 285, 286, 287, 288, 289, 290, 291, 292, 293, 294, 295, 296, 297, 298, 299, 300, 301, 302, 303, 304, 305, 306, 307, 308, 309, 310, 311, 312, 313, 314, 315, 316, 317, 318, 319, 320, 321, 322, 323, 324, 325, 326, 327, 328, 329, 330, 331, 332, 333, 334, 335, 336, 337, 338, 339, 340, 341, 342, 343, 344, 345, 346, 347, 348, 349, 350, 351, 352, 353, 354, 355, 356, 357, 358, 359, 360, 361, 362, 363, 364, 365, 366, 367, 368, 369, 370, 371, 372, 373, 374, 375, 376, 377, 378, 379, 380, 381, 382, 383, 384, 385, 386, 387, 388, 389, 390, 391, 392, 393, 394, 395, 396, 397, 398, 399, 400, 401, 402, 403, 404, 405, 406, 407, 408, 409, 410, 411, 412, 413, 414, 415, 416, 417, 418, 419, 420, 421, 422, 423, 424, 425, 426, 427, 428, 429, 430, 431, 432, 433, 434, 435, 436, 437, 438, 439, 440, 441, 442, 443, 444, 445, 446, 447, 448, 449, 450, 451, 452, 453, 454, 455, 456, 457, 458, 459, 460, 461, 462, 463, 464, 465, 466, 467, 468, 469, 470, 471, 472, 473, 474, 475, 476, 477, 478, 479, 480, 481, 482, 483, 484, 485, 486, 487, 488, 489, 490, 491, 492, 493, 494, 495, 496, 497, 498, 499, 600, 601, 602, 603, 604, 605, 606, 607, 608, 609, 610, 611, 612, 613, 614, 615, 616, 617, 618, 619, 620, 621, 622, 623, 624, 625, 626, 627, 628, 629, 630, 631, 632, 633, 634, 635, 636, 637, 638, 639, 640, 641, 642, 643, 644, 645, 646, 647, 652, 653, 654, 655, 656, 657, 658, 659, 660, 661, 662, 663, 664, 665, 666, 667, 668, 669, 670, 671, 672, 673, 674, 675, 676, 677, 678, 679, 680, 681, 682, 683, 708, 709, 710, 711, 728, 729, 730, 731, 736, 737, 738, 739, 756, 757, 758, 759, 772, 773, 774, 775, 780, 781, 782, 783, 784, 785, 786, 787, 796, 797, 798, 799, 800, 801, 802, 803, 808, 809, 810, 811, 820, 821, 822, 823]\n",
    "\n",
    "os.makedirs(destination_directory, exist_ok=True)\n",
    "\n",
    "for file_number in file_numbers_to_move:\n",
    "    source_file = os.path.join(source_directory, f\"{file_number}.jpg\")  # Adjust the file extension if needed\n",
    "    if os.path.exists(source_file):\n",
    "        destination_file = os.path.join(destination_directory, os.path.basename(source_file))\n",
    "        shutil.move(source_file, destination_file)"
   ]
  },
  {
   "cell_type": "code",
   "execution_count": 56,
   "metadata": {},
   "outputs": [],
   "source": [
    "source_directory = \"data/coffee-leaf-diseases/train/images\"\n",
    "\n",
    "# Destination directory for the \"test_miner\" folder\n",
    "destination_directory = \"data/images_sorted/train_healthy\"\n",
    "\n",
    "# List of new file numbers to move\n",
    "file_numbers_to_move = [0, 1, 2, 3, 4, 5, 6, 7, 8, 9, 10, 11, 12, 13, 14, 15, 188, 189, 190, 191, 192, 193, 194, 195, 196, 197, 198, 199, 200, 201, 202, 203, 204, 205, 206, 207, 208, 209, 210, 211, 212, 213, 214, 215, 688, 689, 690, 691, 692, 693, 694, 695, 696, 697, 698, 699, 700, 701, 702, 703, 720, 721, 722, 723, 724, 725, 726, 727, 740, 741, 742, 743, 744, 745, 746, 747, 748, 749, 750, 751, 752, 753, 754, 755, 760, 761, 762, 763, 764, 765, 766, 767, 776, 777, 778, 779, 788, 789, 790, 791, 792, 793, 794, 795, 812, 813, 814, 815, 824, 825, 826, 827, 832, 833, 834, 835, 844, 845, 846, 847, 848, 849, 850, 851, 860, 861, 862, 863, 868, 869, 870, 871, 904, 905, 906, 907, 916, 917, 918, 919, 920, 921, 922, 923, 924, 925, 926, 927, 932, 933, 934, 935, 940, 941, 942, 943, 964, 965, 966, 967, 996, 997, 998, 999, 1004, 1005, 1006, 1007, 1012, 1013, 1014, 1015, 1016, 1017, 1018, 1019, 1036, 1037, 1038, 1039, 1048, 1049, 1050, 1051, 1056, 1057, 1058, 1059, 1060, 1061, 1062, 1063, 1064, 1065, 1066, 1067, 1076, 1077, 1078, 1079, 1096, 1097, 1098, 1099, 1304, 1305, 1306, 1307, 1316, 1317, 1318, 1319, 1324, 1325, 1326, 1327, 1332, 1333, 1334, 1335, 1364, 1365, 1366, 1367, 1368, 1369, 1370, 1371, 1380, 1381, 1382, 1383, 1384, 1385, 1386, 1387, 1388, 1389, 1390, 1391, 1392, 1393, 1394, 1395, 1396, 1397, 1398, 1399, 1400, 1401, 1402, 1403, 1404, 1405, 1406, 1407, 1408, 1409, 1410, 1411, 1412, 1413, 1414, 1415, 1416, 1417, 1418, 1419, 1420, 1421, 1422, 1423, 1424, 1425, 1426, 1427, 1428, 1429, 1430, 1431, 1584, 1585, 1586, 1587]\n",
    "\n",
    "os.makedirs(destination_directory, exist_ok=True)\n",
    "\n",
    "for file_number in file_numbers_to_move:\n",
    "    source_file = os.path.join(source_directory, f\"{file_number}.jpg\")  # Adjust the file extension if needed\n",
    "    if os.path.exists(source_file):\n",
    "        destination_file = os.path.join(destination_directory, os.path.basename(source_file))\n",
    "        shutil.move(source_file, destination_file)"
   ]
  },
  {
   "cell_type": "markdown",
   "metadata": {},
   "source": [
    "#### Formatting the images for modeling"
   ]
  },
  {
   "cell_type": "code",
   "execution_count": 73,
   "metadata": {},
   "outputs": [],
   "source": [
    "# Image directory paths\n",
    "\n",
    "# all diseases combined\n",
    "#test_disease_dir = 'data/test_alldisease'\n",
    "#train_disease_dir = 'data/train_alldisease'\n",
    "\n",
    "# healthy\n",
    "#test_healthy_dir = 'data/images_sorted/test_healthy'\n",
    "#train_healthy_dir = 'data/images_sorted/train_healthy'\n",
    "\n",
    "# test individual diseases\n",
    "#test_miner_dir = 'data/images_sorted/'\n",
    "#test_rust_dir = 'data/images_sorted/test_rust'\n",
    "#test_phoma_dir = 'data/images_sorted/test_phoma'\n",
    "\n",
    "# train individual diseases\n",
    "#train_miner_dir = 'data/images_sorted/train_miner'\n",
    "#train_rust_dir = 'data/images_sorted/train_rust'\n",
    "#train_stoma_dir = 'data/images_sorted/train_phoma'"
   ]
  },
  {
   "cell_type": "code",
   "execution_count": 35,
   "metadata": {},
   "outputs": [],
   "source": [
    "# Image directory paths\n",
    "test_dir = 'data/images_sorted/test'\n",
    "train_dir = 'data/images_sorted/train'"
   ]
  },
  {
   "cell_type": "code",
   "execution_count": 44,
   "metadata": {},
   "outputs": [
    {
     "name": "stdout",
     "output_type": "stream",
     "text": [
      "Found 388 images belonging to 4 classes.\n"
     ]
    }
   ],
   "source": [
    "# Data generator for test data\n",
    "test_generator = ImageDataGenerator().flow_from_directory(\n",
    "        test_dir, target_size=(64, 64), batch_size=388, class_mode='sparse')\n",
    "\n",
    "test_images, test_labels = next(test_generator)"
   ]
  },
  {
   "cell_type": "code",
   "execution_count": 46,
   "metadata": {},
   "outputs": [
    {
     "name": "stdout",
     "output_type": "stream",
     "text": [
      "Found 1216 images belonging to 4 classes.\n"
     ]
    }
   ],
   "source": [
    "# Data generator for train data\n",
    "train_generator = ImageDataGenerator().flow_from_directory(train_dir, target_size=(64, 64), batch_size=1216, class_mode='sparse')\n",
    "\n",
    "train_images, train_labels = next(train_generator)"
   ]
  },
  {
   "cell_type": "code",
   "execution_count": 47,
   "metadata": {},
   "outputs": [
    {
     "name": "stdout",
     "output_type": "stream",
     "text": [
      "(1216, 64, 64, 3)\n",
      "(1216,)\n",
      "(388, 64, 64, 3)\n",
      "(388,)\n"
     ]
    }
   ],
   "source": [
    "print(np.shape(train_images))\n",
    "print(np.shape(train_labels))\n",
    "print(np.shape(test_images))\n",
    "print(np.shape(test_labels))"
   ]
  },
  {
   "cell_type": "code",
   "execution_count": 48,
   "metadata": {},
   "outputs": [],
   "source": [
    "model = keras.Sequential([\n",
    "    layers.Flatten(input_shape=(64, 64, 3)),\n",
    "    layers.Dense(128, activation='relu'),\n",
    "    layers.Dropout(0.5),\n",
    "    layers.Dense(64, activation='relu'),\n",
    "    layers.Dense(4, activation='softmax')])"
   ]
  },
  {
   "cell_type": "code",
   "execution_count": 49,
   "metadata": {},
   "outputs": [],
   "source": [
    "model.compile(optimizer='adam',\n",
    "              loss='sparse_categorical_crossentropy',  # Use 'categorical_crossentropy' for one-hot encoded labels\n",
    "              metrics=['accuracy'])"
   ]
  },
  {
   "cell_type": "code",
   "execution_count": 52,
   "metadata": {},
   "outputs": [
    {
     "name": "stdout",
     "output_type": "stream",
     "text": [
      "Epoch 1/10\n",
      "1/1 [==============================] - 16s 16s/step - loss: 221.0825 - accuracy: 0.2903 - val_loss: 1895.7817 - val_accuracy: 0.2990\n",
      "Epoch 2/10\n",
      "1/1 [==============================] - 8s 8s/step - loss: 2313.7517 - accuracy: 0.2303 - val_loss: 1137.4818 - val_accuracy: 0.1546\n",
      "Epoch 3/10\n",
      "1/1 [==============================] - 8s 8s/step - loss: 1346.6481 - accuracy: 0.2278 - val_loss: 949.8563 - val_accuracy: 0.2474\n",
      "Epoch 4/10\n",
      "1/1 [==============================] - 8s 8s/step - loss: 963.9883 - accuracy: 0.2771 - val_loss: 588.3674 - val_accuracy: 0.2474\n",
      "Epoch 5/10\n",
      "1/1 [==============================] - 8s 8s/step - loss: 917.5392 - accuracy: 0.2607 - val_loss: 340.8363 - val_accuracy: 0.2835\n",
      "Epoch 6/10\n",
      "1/1 [==============================] - 8s 8s/step - loss: 867.9246 - accuracy: 0.2253 - val_loss: 392.1176 - val_accuracy: 0.2912\n",
      "Epoch 7/10\n",
      "1/1 [==============================] - 8s 8s/step - loss: 644.5545 - accuracy: 0.2385 - val_loss: 461.6820 - val_accuracy: 0.2474\n",
      "Epoch 8/10\n",
      "1/1 [==============================] - 8s 8s/step - loss: 475.9495 - accuracy: 0.2788 - val_loss: 257.4629 - val_accuracy: 0.2474\n",
      "Epoch 9/10\n",
      "1/1 [==============================] - 8s 8s/step - loss: 345.4859 - accuracy: 0.2714 - val_loss: 67.5151 - val_accuracy: 0.2706\n",
      "Epoch 10/10\n",
      "1/1 [==============================] - 8s 8s/step - loss: 241.1607 - accuracy: 0.2352 - val_loss: 68.5689 - val_accuracy: 0.2655\n"
     ]
    },
    {
     "data": {
      "text/plain": [
       "<tensorflow.python.keras.callbacks.History at 0x1cf1fac4e80>"
      ]
     },
     "execution_count": 52,
     "metadata": {},
     "output_type": "execute_result"
    }
   ],
   "source": [
    "model.fit(train_generator, epochs=10, batch_size=1216, validation_data=test_generator)"
   ]
  },
  {
   "cell_type": "markdown",
   "metadata": {},
   "source": [
    "## Grid Search"
   ]
  },
  {
   "cell_type": "code",
   "execution_count": 54,
   "metadata": {},
   "outputs": [],
   "source": [
    "def create_model(learning_rate=0.01, dropout_rate=0.5, units=128):\n",
    "    model = keras.Sequential([\n",
    "        layers.Flatten(input_shape=(64, 64, 3)),\n",
    "        layers.Dense(units, activation='relu'),\n",
    "        layers.Dropout(dropout_rate),\n",
    "        layers.Dense(64, activation='relu'),\n",
    "        layers.Dense(4, activation='softmax')\n",
    "    ])\n",
    "    model.compile(\n",
    "        optimizer=keras.optimizers.Adam(learning_rate=learning_rate),\n",
    "        loss='sparse_categorical_crossentropy',\n",
    "        metrics=['accuracy']\n",
    "    )\n",
    "    return model"
   ]
  },
  {
   "cell_type": "code",
   "execution_count": 63,
   "metadata": {},
   "outputs": [],
   "source": [
    "param_grid = {\n",
    "    'learning_rate': [0.0001],\n",
    "    'dropout_rate': [0.1],\n",
    "    'units': [80, 90, 100]}"
   ]
  },
  {
   "cell_type": "code",
   "execution_count": 64,
   "metadata": {},
   "outputs": [],
   "source": [
    "model = keras.wrappers.scikit_learn.KerasClassifier(build_fn=create_model, epochs=10, batch_size=32)\n",
    "grid_search = GridSearchCV(estimator=model, param_grid=param_grid, cv=3)\n"
   ]
  },
  {
   "cell_type": "code",
   "execution_count": 65,
   "metadata": {},
   "outputs": [
    {
     "name": "stdout",
     "output_type": "stream",
     "text": [
      "Epoch 1/10\n",
      "26/26 [==============================] - 0s 7ms/step - loss: 91.0624 - accuracy: 0.2815\n",
      "Epoch 2/10\n",
      "26/26 [==============================] - 0s 7ms/step - loss: 32.4003 - accuracy: 0.3086\n",
      "Epoch 3/10\n",
      "26/26 [==============================] - 0s 8ms/step - loss: 21.3354 - accuracy: 0.3086\n",
      "Epoch 4/10\n",
      "26/26 [==============================] - 0s 8ms/step - loss: 5.0641 - accuracy: 0.2469\n",
      "Epoch 5/10\n",
      "26/26 [==============================] - 0s 8ms/step - loss: 1.3887 - accuracy: 0.2506\n",
      "Epoch 6/10\n",
      "26/26 [==============================] - 0s 7ms/step - loss: 1.3850 - accuracy: 0.3198\n",
      "Epoch 7/10\n",
      "26/26 [==============================] - 0s 7ms/step - loss: 1.3850 - accuracy: 0.3198\n",
      "Epoch 8/10\n",
      "26/26 [==============================] - 0s 8ms/step - loss: 1.3847 - accuracy: 0.3198\n",
      "Epoch 9/10\n",
      "26/26 [==============================] - 0s 8ms/step - loss: 1.3842 - accuracy: 0.3198\n",
      "Epoch 10/10\n",
      "26/26 [==============================] - 0s 7ms/step - loss: 1.3842 - accuracy: 0.3198\n",
      "13/13 [==============================] - 0s 2ms/step - loss: 1.3854 - accuracy: 0.3177\n",
      "Epoch 1/10\n",
      "26/26 [==============================] - 0s 7ms/step - loss: 102.9871 - accuracy: 0.2602\n",
      "Epoch 2/10\n",
      "26/26 [==============================] - 0s 7ms/step - loss: 21.3849 - accuracy: 0.2885\n",
      "Epoch 3/10\n",
      "26/26 [==============================] - 0s 7ms/step - loss: 1.5606 - accuracy: 0.2799\n",
      "Epoch 4/10\n",
      "26/26 [==============================] - 0s 7ms/step - loss: 1.3859 - accuracy: 0.3305\n",
      "Epoch 5/10\n",
      "26/26 [==============================] - 0s 7ms/step - loss: 1.3856 - accuracy: 0.3305\n",
      "Epoch 6/10\n",
      "26/26 [==============================] - 0s 7ms/step - loss: 1.3852 - accuracy: 0.3305\n",
      "Epoch 7/10\n",
      "26/26 [==============================] - 0s 7ms/step - loss: 1.3848 - accuracy: 0.3305\n",
      "Epoch 8/10\n",
      "26/26 [==============================] - 0s 7ms/step - loss: 1.3845 - accuracy: 0.3305\n",
      "Epoch 9/10\n",
      "26/26 [==============================] - 0s 7ms/step - loss: 1.3842 - accuracy: 0.3305\n",
      "Epoch 10/10\n",
      "26/26 [==============================] - 0s 7ms/step - loss: 1.3838 - accuracy: 0.3305\n",
      "13/13 [==============================] - 0s 3ms/step - loss: 1.3848 - accuracy: 0.2963\n",
      "Epoch 1/10\n",
      "26/26 [==============================] - ETA: 0s - loss: 59.7488 - accuracy: 0.259 - 0s 7ms/step - loss: 57.9647 - accuracy: 0.2626\n",
      "Epoch 2/10\n",
      "26/26 [==============================] - 0s 7ms/step - loss: 12.7578 - accuracy: 0.2947\n",
      "Epoch 3/10\n",
      "26/26 [==============================] - 0s 7ms/step - loss: 1.4493 - accuracy: 0.2195\n",
      "Epoch 4/10\n",
      "26/26 [==============================] - 0s 7ms/step - loss: 1.3861 - accuracy: 0.3070\n",
      "Epoch 5/10\n",
      "26/26 [==============================] - 0s 9ms/step - loss: 1.3859 - accuracy: 0.3070\n",
      "Epoch 6/10\n",
      "26/26 [==============================] - 0s 7ms/step - loss: 1.3857 - accuracy: 0.3070\n",
      "Epoch 7/10\n",
      "26/26 [==============================] - 0s 7ms/step - loss: 1.3855 - accuracy: 0.3070\n",
      "Epoch 8/10\n",
      "26/26 [==============================] - 0s 7ms/step - loss: 1.3854 - accuracy: 0.3070\n",
      "Epoch 9/10\n",
      "26/26 [==============================] - 0s 8ms/step - loss: 1.3852 - accuracy: 0.3070\n",
      "Epoch 10/10\n",
      "26/26 [==============================] - 0s 7ms/step - loss: 1.3850 - accuracy: 0.3070\n",
      "13/13 [==============================] - 0s 3ms/step - loss: 1.3883 - accuracy: 0.3407\n",
      "Epoch 1/10\n",
      "26/26 [==============================] - 0s 8ms/step - loss: 86.6233 - accuracy: 0.2827\n",
      "Epoch 2/10\n",
      "26/26 [==============================] - 0s 7ms/step - loss: 35.7397 - accuracy: 0.3000\n",
      "Epoch 3/10\n",
      "26/26 [==============================] - 0s 7ms/step - loss: 19.1680 - accuracy: 0.3259\n",
      "Epoch 4/10\n",
      "26/26 [==============================] - 0s 8ms/step - loss: 13.5964 - accuracy: 0.2938\n",
      "Epoch 5/10\n",
      "26/26 [==============================] - 0s 7ms/step - loss: 1.3849 - accuracy: 0.2235\n",
      "Epoch 6/10\n",
      "26/26 [==============================] - 0s 7ms/step - loss: 1.3860 - accuracy: 0.2988\n",
      "Epoch 7/10\n",
      "26/26 [==============================] - 0s 8ms/step - loss: 1.3850 - accuracy: 0.3210\n",
      "Epoch 8/10\n",
      "26/26 [==============================] - 0s 7ms/step - loss: 1.3847 - accuracy: 0.3210\n",
      "Epoch 9/10\n",
      "26/26 [==============================] - 0s 8ms/step - loss: 1.3844 - accuracy: 0.3210\n",
      "Epoch 10/10\n",
      "26/26 [==============================] - 0s 8ms/step - loss: 1.3842 - accuracy: 0.3210\n",
      "13/13 [==============================] - 0s 3ms/step - loss: 1.3847 - accuracy: 0.3177\n",
      "Epoch 1/10\n",
      "26/26 [==============================] - 0s 8ms/step - loss: 69.4252 - accuracy: 0.2713\n",
      "Epoch 2/10\n",
      "26/26 [==============================] - 0s 9ms/step - loss: 27.5868 - accuracy: 0.3120\n",
      "Epoch 3/10\n",
      "26/26 [==============================] - 0s 9ms/step - loss: 10.4639 - accuracy: 0.3132\n",
      "Epoch 4/10\n",
      "26/26 [==============================] - 0s 9ms/step - loss: 4.2349 - accuracy: 0.2799\n",
      "Epoch 5/10\n",
      "26/26 [==============================] - 0s 8ms/step - loss: 1.3860 - accuracy: 0.2577\n",
      "Epoch 6/10\n",
      "26/26 [==============================] - 0s 8ms/step - loss: 1.3855 - accuracy: 0.3305\n",
      "Epoch 7/10\n",
      "26/26 [==============================] - 0s 9ms/step - loss: 1.3850 - accuracy: 0.3305\n",
      "Epoch 8/10\n",
      "26/26 [==============================] - 0s 9ms/step - loss: 1.3846 - accuracy: 0.3305\n",
      "Epoch 9/10\n",
      "26/26 [==============================] - 0s 8ms/step - loss: 1.3842 - accuracy: 0.3305\n",
      "Epoch 10/10\n",
      "26/26 [==============================] - 0s 9ms/step - loss: 1.3838 - accuracy: 0.3305\n",
      "13/13 [==============================] - 0s 3ms/step - loss: 1.3849 - accuracy: 0.2963\n",
      "Epoch 1/10\n",
      "26/26 [==============================] - 0s 7ms/step - loss: 64.0950 - accuracy: 0.2552\n",
      "Epoch 2/10\n",
      "26/26 [==============================] - 0s 7ms/step - loss: 25.9225 - accuracy: 0.2984\n",
      "Epoch 3/10\n",
      "26/26 [==============================] - 0s 8ms/step - loss: 14.1557 - accuracy: 0.2959\n",
      "Epoch 4/10\n",
      "26/26 [==============================] - 0s 7ms/step - loss: 2.2401 - accuracy: 0.2540\n",
      "Epoch 5/10\n",
      "26/26 [==============================] - 0s 8ms/step - loss: 1.3864 - accuracy: 0.2133\n",
      "Epoch 6/10\n",
      "26/26 [==============================] - 0s 8ms/step - loss: 1.3862 - accuracy: 0.2330\n",
      "Epoch 7/10\n",
      "26/26 [==============================] - 0s 7ms/step - loss: 1.3860 - accuracy: 0.3070\n",
      "Epoch 8/10\n",
      "26/26 [==============================] - 0s 8ms/step - loss: 1.3859 - accuracy: 0.3070\n",
      "Epoch 9/10\n",
      "26/26 [==============================] - 0s 7ms/step - loss: 1.3857 - accuracy: 0.3070\n",
      "Epoch 10/10\n",
      "26/26 [==============================] - 0s 7ms/step - loss: 1.3856 - accuracy: 0.3070\n",
      "13/13 [==============================] - 0s 3ms/step - loss: 1.4130 - accuracy: 0.3383\n",
      "Epoch 1/10\n",
      "26/26 [==============================] - 0s 8ms/step - loss: 91.4817 - accuracy: 0.2494\n",
      "Epoch 2/10\n",
      "26/26 [==============================] - 0s 8ms/step - loss: 23.9498 - accuracy: 0.3148\n",
      "Epoch 3/10\n",
      "26/26 [==============================] - 0s 8ms/step - loss: 17.0525 - accuracy: 0.2938\n",
      "Epoch 4/10\n",
      "26/26 [==============================] - 0s 9ms/step - loss: 8.6614 - accuracy: 0.3111\n",
      "Epoch 5/10\n",
      "26/26 [==============================] - 0s 8ms/step - loss: 1.4150 - accuracy: 0.2235\n",
      "Epoch 6/10\n",
      "26/26 [==============================] - 0s 8ms/step - loss: 1.3864 - accuracy: 0.2185\n",
      "Epoch 7/10\n",
      "26/26 [==============================] - 0s 8ms/step - loss: 1.3863 - accuracy: 0.2185\n",
      "Epoch 8/10\n",
      "26/26 [==============================] - 0s 8ms/step - loss: 1.3861 - accuracy: 0.2383\n",
      "Epoch 9/10\n",
      "26/26 [==============================] - 0s 8ms/step - loss: 1.3859 - accuracy: 0.3198\n",
      "Epoch 10/10\n",
      "26/26 [==============================] - 0s 8ms/step - loss: 1.3858 - accuracy: 0.3198\n",
      "13/13 [==============================] - 0s 4ms/step - loss: 1.3904 - accuracy: 0.3177\n",
      "Epoch 1/10\n",
      "26/26 [==============================] - 0s 8ms/step - loss: 85.8944 - accuracy: 0.2737\n",
      "Epoch 2/10\n",
      "26/26 [==============================] - 0s 9ms/step - loss: 27.9452 - accuracy: 0.3046\n",
      "Epoch 3/10\n",
      "26/26 [==============================] - 0s 9ms/step - loss: 8.9711 - accuracy: 0.3218\n",
      "Epoch 4/10\n",
      "26/26 [==============================] - 0s 8ms/step - loss: 2.3330 - accuracy: 0.2306\n",
      "Epoch 5/10\n",
      "26/26 [==============================] - 0s 8ms/step - loss: 1.3902 - accuracy: 0.2392\n",
      "Epoch 6/10\n",
      "26/26 [==============================] - 0s 8ms/step - loss: 1.3846 - accuracy: 0.3255\n",
      "Epoch 7/10\n"
     ]
    },
    {
     "name": "stdout",
     "output_type": "stream",
     "text": [
      "26/26 [==============================] - 0s 8ms/step - loss: 1.3841 - accuracy: 0.3305\n",
      "Epoch 8/10\n",
      "26/26 [==============================] - 0s 8ms/step - loss: 1.3838 - accuracy: 0.3305\n",
      "Epoch 9/10\n",
      "26/26 [==============================] - 0s 8ms/step - loss: 1.3835 - accuracy: 0.3305\n",
      "Epoch 10/10\n",
      "26/26 [==============================] - 0s 8ms/step - loss: 1.3832 - accuracy: 0.3305\n",
      "13/13 [==============================] - 0s 4ms/step - loss: 1.3854 - accuracy: 0.2963\n",
      "Epoch 1/10\n",
      "26/26 [==============================] - 0s 8ms/step - loss: 88.0731 - accuracy: 0.2503\n",
      "Epoch 2/10\n",
      "26/26 [==============================] - 0s 8ms/step - loss: 34.6668 - accuracy: 0.2577\n",
      "Epoch 3/10\n",
      "26/26 [==============================] - 0s 8ms/step - loss: 15.8797 - accuracy: 0.2725\n",
      "Epoch 4/10\n",
      "26/26 [==============================] - 0s 8ms/step - loss: 1.5666 - accuracy: 0.2972\n",
      "Epoch 5/10\n",
      "26/26 [==============================] - 0s 8ms/step - loss: 1.3860 - accuracy: 0.3070\n",
      "Epoch 6/10\n",
      "26/26 [==============================] - 0s 8ms/step - loss: 1.3858 - accuracy: 0.3070\n",
      "Epoch 7/10\n",
      "26/26 [==============================] - 0s 8ms/step - loss: 1.3857 - accuracy: 0.3070\n",
      "Epoch 8/10\n",
      "26/26 [==============================] - 0s 8ms/step - loss: 1.3855 - accuracy: 0.3070\n",
      "Epoch 9/10\n",
      "26/26 [==============================] - 0s 8ms/step - loss: 1.3853 - accuracy: 0.3070\n",
      "Epoch 10/10\n",
      "26/26 [==============================] - 0s 7ms/step - loss: 1.3852 - accuracy: 0.3070\n",
      "13/13 [==============================] - 0s 4ms/step - loss: 1.3832 - accuracy: 0.3457\n",
      "Epoch 1/10\n",
      "38/38 [==============================] - 0s 8ms/step - loss: 101.3189 - accuracy: 0.2919\n",
      "Epoch 2/10\n",
      "38/38 [==============================] - 0s 8ms/step - loss: 27.9783 - accuracy: 0.3215\n",
      "Epoch 3/10\n",
      "38/38 [==============================] - 0s 8ms/step - loss: 7.1164 - accuracy: 0.3207\n",
      "Epoch 4/10\n",
      "38/38 [==============================] - 0s 8ms/step - loss: 1.3852 - accuracy: 0.3298\n",
      "Epoch 5/10\n",
      "38/38 [==============================] - 0s 8ms/step - loss: 1.4115 - accuracy: 0.3298\n",
      "Epoch 6/10\n",
      "38/38 [==============================] - 0s 8ms/step - loss: 1.3828 - accuracy: 0.3215\n",
      "Epoch 7/10\n",
      "38/38 [==============================] - 0s 8ms/step - loss: 1.3828 - accuracy: 0.3215\n",
      "Epoch 8/10\n",
      "38/38 [==============================] - 0s 8ms/step - loss: 1.3820 - accuracy: 0.3215\n",
      "Epoch 9/10\n",
      "38/38 [==============================] - 0s 8ms/step - loss: 1.3828 - accuracy: 0.3207\n",
      "Epoch 10/10\n",
      "38/38 [==============================] - 0s 8ms/step - loss: 1.3821 - accuracy: 0.3207\n"
     ]
    },
    {
     "data": {
      "text/plain": [
       "GridSearchCV(cv=3,\n",
       "             estimator=<tensorflow.python.keras.wrappers.scikit_learn.KerasClassifier object at 0x000001CF1CC8E2E0>,\n",
       "             param_grid={'dropout_rate': [0.1], 'learning_rate': [0.0001],\n",
       "                         'units': [80, 90, 100]})"
      ]
     },
     "execution_count": 65,
     "metadata": {},
     "output_type": "execute_result"
    }
   ],
   "source": [
    "grid_search.fit(train_images, train_labels)\n"
   ]
  },
  {
   "cell_type": "code",
   "execution_count": 67,
   "metadata": {},
   "outputs": [
    {
     "name": "stdout",
     "output_type": "stream",
     "text": [
      "Best Hyperparameters: {'dropout_rate': 0.1, 'learning_rate': 0.0001, 'units': 100}\n",
      "Best Accuracy: 0.31990310549736023\n"
     ]
    }
   ],
   "source": [
    "best_params = grid_search.best_params_\n",
    "best_accuracy = grid_search.best_score_\n",
    "\n",
    "print(\"Best Hyperparameters:\", best_params)\n",
    "print(\"Best Accuracy:\", best_accuracy)"
   ]
  },
  {
   "cell_type": "code",
   "execution_count": 68,
   "metadata": {},
   "outputs": [],
   "source": [
    "def create_model2(learning_rate=0.0001, dropout_rate=0.1, units=100):\n",
    "    model = keras.Sequential([\n",
    "        layers.Flatten(input_shape=(64, 64, 3)),\n",
    "        layers.Dense(units, activation='relu'),\n",
    "        layers.Dropout(dropout_rate),\n",
    "        layers.Dense(64, activation='relu'),\n",
    "        layers.Dense(4, activation='softmax')\n",
    "    ])\n",
    "    model.compile(\n",
    "        optimizer=keras.optimizers.Adam(learning_rate=learning_rate),\n",
    "        loss='sparse_categorical_crossentropy',\n",
    "        metrics=['accuracy']\n",
    "    )\n",
    "    return model"
   ]
  },
  {
   "cell_type": "code",
   "execution_count": 69,
   "metadata": {},
   "outputs": [],
   "source": [
    "model2 = keras.wrappers.scikit_learn.KerasClassifier(build_fn=create_model2, epochs=10, batch_size=32)"
   ]
  },
  {
   "cell_type": "code",
   "execution_count": 74,
   "metadata": {},
   "outputs": [
    {
     "name": "stdout",
     "output_type": "stream",
     "text": [
      "Epoch 1/10\n",
      "31/31 [==============================] - 0s 10ms/step - loss: 4144.0938 - accuracy: 0.2366\n",
      "Epoch 2/10\n",
      "31/31 [==============================] - 0s 10ms/step - loss: 1.3829 - accuracy: 0.3117\n",
      "Epoch 3/10\n",
      "31/31 [==============================] - 0s 10ms/step - loss: 53.0928 - accuracy: 0.3025\n",
      "Epoch 4/10\n",
      "31/31 [==============================] - 0s 10ms/step - loss: 1.3758 - accuracy: 0.3138\n",
      "Epoch 5/10\n",
      "31/31 [==============================] - 0s 9ms/step - loss: 1.3766 - accuracy: 0.3138\n",
      "Epoch 6/10\n",
      "31/31 [==============================] - 0s 10ms/step - loss: 1.3759 - accuracy: 0.3138\n",
      "Epoch 7/10\n",
      "31/31 [==============================] - 0s 10ms/step - loss: 1.3761 - accuracy: 0.3138\n",
      "Epoch 8/10\n",
      "31/31 [==============================] - 0s 9ms/step - loss: 1.3759 - accuracy: 0.3138\n",
      "Epoch 9/10\n",
      "31/31 [==============================] - 0s 9ms/step - loss: 1.3763 - accuracy: 0.3138\n",
      "Epoch 10/10\n",
      "31/31 [==============================] - 0s 9ms/step - loss: 1.3777 - accuracy: 0.3138\n",
      "8/8 [==============================] - 0s 2ms/step - loss: 1.3690 - accuracy: 0.3402\n",
      "Epoch 1/10\n",
      "31/31 [==============================] - 0s 9ms/step - loss: 4589.1289 - accuracy: 0.2292\n",
      "Epoch 2/10\n",
      "31/31 [==============================] - 0s 9ms/step - loss: 1.3806 - accuracy: 0.3094\n",
      "Epoch 3/10\n",
      "31/31 [==============================] - 0s 9ms/step - loss: 1.3737 - accuracy: 0.3237\n",
      "Epoch 4/10\n",
      "31/31 [==============================] - 0s 9ms/step - loss: 1.3719 - accuracy: 0.3237\n",
      "Epoch 5/10\n",
      "31/31 [==============================] - 0s 9ms/step - loss: 1.3720 - accuracy: 0.3237\n",
      "Epoch 6/10\n",
      "31/31 [==============================] - 0s 9ms/step - loss: 1.3719 - accuracy: 0.3237\n",
      "Epoch 7/10\n",
      "31/31 [==============================] - 0s 10ms/step - loss: 1.3718 - accuracy: 0.3237\n",
      "Epoch 8/10\n",
      "31/31 [==============================] - 0s 9ms/step - loss: 1.3717 - accuracy: 0.3237\n",
      "Epoch 9/10\n",
      "31/31 [==============================] - 0s 9ms/step - loss: 1.3718 - accuracy: 0.3237\n",
      "Epoch 10/10\n",
      "31/31 [==============================] - 0s 9ms/step - loss: 1.3729 - accuracy: 0.3237\n",
      "8/8 [==============================] - 0s 5ms/step - loss: 1.4104 - accuracy: 0.2963\n",
      "Epoch 1/10\n",
      "31/31 [==============================] - 0s 9ms/step - loss: 1919.1632 - accuracy: 0.2847\n",
      "Epoch 2/10\n",
      "31/31 [==============================] - 0s 9ms/step - loss: 37.7260 - accuracy: 0.3268\n",
      "Epoch 3/10\n",
      "31/31 [==============================] - 0s 9ms/step - loss: 72.3953 - accuracy: 0.3237\n",
      "Epoch 4/10\n",
      "31/31 [==============================] - 0s 9ms/step - loss: 1.3699 - accuracy: 0.3289\n",
      "Epoch 5/10\n",
      "31/31 [==============================] - 0s 9ms/step - loss: 1.3688 - accuracy: 0.3289\n",
      "Epoch 6/10\n",
      "31/31 [==============================] - 0s 9ms/step - loss: 1.3690 - accuracy: 0.3289\n",
      "Epoch 7/10\n",
      "31/31 [==============================] - 0s 9ms/step - loss: 1.3708 - accuracy: 0.3279\n",
      "Epoch 8/10\n",
      "31/31 [==============================] - 0s 9ms/step - loss: 1.3704 - accuracy: 0.3279\n",
      "Epoch 9/10\n",
      "31/31 [==============================] - 0s 9ms/step - loss: 1.3706 - accuracy: 0.3279\n",
      "Epoch 10/10\n",
      "31/31 [==============================] - 0s 9ms/step - loss: 1.3711 - accuracy: 0.3268\n",
      "8/8 [==============================] - 0s 3ms/step - loss: 1.3856 - accuracy: 0.2881\n",
      "Epoch 1/10\n",
      "31/31 [==============================] - 0s 9ms/step - loss: 3358.9551 - accuracy: 0.2950\n",
      "Epoch 2/10\n",
      "31/31 [==============================] - 0s 10ms/step - loss: 44.4648 - accuracy: 0.3083\n",
      "Epoch 3/10\n",
      "31/31 [==============================] - 0s 9ms/step - loss: 1.3765 - accuracy: 0.3155\n",
      "Epoch 4/10\n",
      "31/31 [==============================] - 0s 9ms/step - loss: 1.3763 - accuracy: 0.3155\n",
      "Epoch 5/10\n",
      "31/31 [==============================] - 0s 9ms/step - loss: 1.3783 - accuracy: 0.3155\n",
      "Epoch 6/10\n",
      "31/31 [==============================] - 0s 9ms/step - loss: 1.3769 - accuracy: 0.3155\n",
      "Epoch 7/10\n",
      "31/31 [==============================] - 0s 9ms/step - loss: 1.3763 - accuracy: 0.3155\n",
      "Epoch 8/10\n",
      "31/31 [==============================] - 0s 10ms/step - loss: 1.3768 - accuracy: 0.3155\n",
      "Epoch 9/10\n",
      "31/31 [==============================] - 0s 9ms/step - loss: 1.3760 - accuracy: 0.3155\n",
      "Epoch 10/10\n",
      "31/31 [==============================] - 0s 9ms/step - loss: 1.3777 - accuracy: 0.3155\n",
      "8/8 [==============================] - 0s 3ms/step - loss: 1.3780 - accuracy: 0.3333\n",
      "Epoch 1/10\n",
      "31/31 [==============================] - 0s 9ms/step - loss: 4153.8442 - accuracy: 0.2652\n",
      "Epoch 2/10\n",
      "31/31 [==============================] - 0s 9ms/step - loss: 1.3855 - accuracy: 0.2631\n",
      "Epoch 3/10\n",
      "31/31 [==============================] - 0s 10ms/step - loss: 141.6199 - accuracy: 0.3114\n",
      "Epoch 4/10\n",
      "31/31 [==============================] - 0s 9ms/step - loss: 1.3753 - accuracy: 0.3155\n",
      "Epoch 5/10\n",
      "31/31 [==============================] - 0s 10ms/step - loss: 1.3752 - accuracy: 0.3155\n",
      "Epoch 6/10\n",
      "31/31 [==============================] - 0s 10ms/step - loss: 1.3754 - accuracy: 0.3155\n",
      "Epoch 7/10\n",
      "31/31 [==============================] - 0s 9ms/step - loss: 1.3750 - accuracy: 0.3155\n",
      "Epoch 8/10\n",
      "31/31 [==============================] - 0s 10ms/step - loss: 1.3756 - accuracy: 0.3155\n",
      "Epoch 9/10\n",
      "31/31 [==============================] - 0s 9ms/step - loss: 1.3761 - accuracy: 0.3155\n",
      "Epoch 10/10\n",
      "31/31 [==============================] - 0s 9ms/step - loss: 1.3752 - accuracy: 0.3155\n",
      "8/8 [==============================] - 0s 4ms/step - loss: 1.3850 - accuracy: 0.3333\n",
      "Cross-Validation Scores: [0.34016395 0.2962963  0.28806585 0.33333334 0.33333334]\n",
      "Mean Accuracy: 0.3182385563850403\n"
     ]
    }
   ],
   "source": [
    "from sklearn.model_selection import cross_val_score\n",
    "\n",
    "# Create a KerasClassifier wrapper for your model\n",
    "from keras.wrappers.scikit_learn import KerasClassifier\n",
    "model2 = KerasClassifier(build_fn=create_model2, epochs=10, batch_size=32)  # Replace 'create_model' with your model creation function\n",
    "\n",
    "# Perform cross-validation\n",
    "scores = cross_val_score(model, train_images, train_labels, cv=5)  # You can adjust the number of folds (cv) as needed\n",
    "\n",
    "# Print the cross-validation scores (accuracy)\n",
    "print(\"Cross-Validation Scores:\", scores)\n",
    "print(\"Mean Accuracy:\", scores.mean())\n"
   ]
  },
  {
   "cell_type": "code",
   "execution_count": null,
   "metadata": {},
   "outputs": [],
   "source": []
  }
 ],
 "metadata": {
  "kernelspec": {
   "display_name": "Python (learn-env)",
   "language": "python",
   "name": "learn-env"
  },
  "language_info": {
   "codemirror_mode": {
    "name": "ipython",
    "version": 3
   },
   "file_extension": ".py",
   "mimetype": "text/x-python",
   "name": "python",
   "nbconvert_exporter": "python",
   "pygments_lexer": "ipython3",
   "version": "3.8.5"
  }
 },
 "nbformat": 4,
 "nbformat_minor": 4
}
